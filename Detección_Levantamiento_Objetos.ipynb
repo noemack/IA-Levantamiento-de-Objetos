{
 "cells": [
  {
   "cell_type": "code",
   "execution_count": 2,
   "metadata": {},
   "outputs": [
    {
     "name": "stdout",
     "output_type": "stream",
     "text": [
      "¡Las librerías están correctamente instaladas!\n"
     ]
    }
   ],
   "source": [
    "# Importamos las librerías, si no están instaladas, realizar instalación con pip install en terminal\n",
    "import cv2\n",
    "import mediapipe as mp\n",
    "print(\"¡Las librerías están correctamente instaladas!\")\n",
    "\n",
    "# Iniciamos MediaPipe Pose\n",
    "mp_pose = mp.solutions.pose\n",
    "pose = mp_pose.Pose(min_detection_confidence=0.5, min_tracking_confidence=0.5)\n",
    "mp_dibujo = mp.solutions.drawing_utils\n",
    "\n",
    "# Capturamos video desde la cámara\n",
    "captura_video = cv2.VideoCapture(0)\n",
    "\n",
    "while captura_video.isOpened():\n",
    "    ret, frame = captura_video.read()\n",
    "    if not ret:\n",
    "        break\n",
    "\n",
    "    # Convertimos la imagen a RGB para MediaPipe\n",
    "    frame_rgb = cv2.cvtColor(frame, cv2.COLOR_BGR2RGB)\n",
    "    resultados = pose.process(frame_rgb)\n",
    "\n",
    "    # Detectamos las poses si se encuentran puntos clave\n",
    "    if resultados.pose_landmarks:\n",
    "        mp_dibujo.draw_landmarks(frame, resultados.pose_landmarks, mp_pose.POSE_CONNECTIONS)\n",
    "        \n",
    "        # Obtenemos las coordenadas de los puntos clave\n",
    "        mu_izq = resultados.pose_landmarks.landmark[mp_pose.PoseLandmark.LEFT_WRIST]\n",
    "        mu_der = resultados.pose_landmarks.landmark[mp_pose.PoseLandmark.RIGHT_WRIST]\n",
    "        cad_izq = resultados.pose_landmarks.landmark[mp_pose.PoseLandmark.LEFT_HIP]\n",
    "        cad_der = resultados.pose_landmarks.landmark[mp_pose.PoseLandmark.RIGHT_HIP]\n",
    "\n",
    "        # Calculamos la altura promedio de las caderas\n",
    "        avg_alt_cad = (cad_izq.y + cad_der.y) / 2\n",
    "\n",
    "        # Detectamos si ambas muñecas están por debajo de las caderas (inicio de levantamiento)\n",
    "        if mu_izq.y > avg_alt_cad and mu_der.y > avg_alt_cad:\n",
    "            cv2.putText(frame, \"Inicio de levantamiento detectado\", (50, 50), cv2.FONT_HERSHEY_SIMPLEX, 1, (0, 255, 0), 2)\n",
    "\n",
    "        # Detectamos si ambas muñecas están por encima de las caderas (levantamiento completo)\n",
    "        elif mu_izq.y < avg_alt_cad and mu_der.y < avg_alt_cad:\n",
    "            cv2.putText(frame, \"Objeto levantado\", (50, 100), cv2.FONT_HERSHEY_SIMPLEX, 1, (0, 0, 255), 2)\n",
    "        else:\n",
    "            cv2.putText(frame, \"Esperando actividad\", (50, 150), cv2.FONT_HERSHEY_SIMPLEX, 1, (255, 255, 0), 2)\n",
    "\n",
    "    # Mostramos el resultado en una ventana\n",
    "    frame = cv2.resize(frame, (640, 480))\n",
    "    cv2.imshow(\"Detectar levantamiento de objeto\", frame)\n",
    "\n",
    "    # Salimos presionando la tecla 'q'\n",
    "    if cv2.waitKey(10) & 0xFF == ord('q'):\n",
    "        break\n",
    "\n",
    "captura_video.release()\n",
    "cv2.destroyAllWindows()\n",
    "\n"
   ]
  }
 ],
 "metadata": {
  "kernelspec": {
   "display_name": "base",
   "language": "python",
   "name": "python3"
  },
  "language_info": {
   "codemirror_mode": {
    "name": "ipython",
    "version": 3
   },
   "file_extension": ".py",
   "mimetype": "text/x-python",
   "name": "python",
   "nbconvert_exporter": "python",
   "pygments_lexer": "ipython3",
   "version": "3.8.5"
  }
 },
 "nbformat": 4,
 "nbformat_minor": 2
}
